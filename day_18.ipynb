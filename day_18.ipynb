{
  "nbformat": 4,
  "nbformat_minor": 0,
  "metadata": {
    "colab": {
      "private_outputs": true,
      "provenance": [],
      "authorship_tag": "ABX9TyPYTmNvQwdvwNIlkuUQSUto",
      "include_colab_link": true
    },
    "kernelspec": {
      "name": "python3",
      "display_name": "Python 3"
    },
    "language_info": {
      "name": "python"
    }
  },
  "cells": [
    {
      "cell_type": "markdown",
      "metadata": {
        "id": "view-in-github",
        "colab_type": "text"
      },
      "source": [
        "<a href=\"https://colab.research.google.com/gist/Muhammadmuraad/969554d5dbfc36f45a2df0c5b8930790/day_18.ipynb\" target=\"_parent\"><img src=\"https://colab.research.google.com/assets/colab-badge.svg\" alt=\"Open In Colab\"/></a>"
      ]
    },
    {
      "cell_type": "markdown",
      "source": [
        "Import libriries"
      ],
      "metadata": {
        "id": "lVXeCalcQykP"
      }
    },
    {
      "cell_type": "code",
      "execution_count": null,
      "metadata": {
        "id": "ZSS6VH18C9N8"
      },
      "outputs": [],
      "source": [
        "import numpy as np\n",
        "import pandas as pd\n",
        "import sklearn\n",
        "import seaborn as sns\n",
        "import matplotlib.pyplot as plt"
      ]
    },
    {
      "cell_type": "markdown",
      "source": [
        "Load **Dataset**"
      ],
      "metadata": {
        "id": "TBawOoV0RdVQ"
      }
    },
    {
      "cell_type": "code",
      "source": [
        "usa_dataset=pd.read_csv(\"/content/sample_data/california_housing_train.csv\")"
      ],
      "metadata": {
        "id": "bJlIuOe4Rcst"
      },
      "execution_count": null,
      "outputs": []
    },
    {
      "cell_type": "code",
      "source": [
        "usa_dataset.describe()"
      ],
      "metadata": {
        "id": "NuPFk1PfR0pC"
      },
      "execution_count": null,
      "outputs": []
    },
    {
      "cell_type": "code",
      "source": [
        "usa_dataset.head()"
      ],
      "metadata": {
        "id": "tVZxejTYR-vH"
      },
      "execution_count": null,
      "outputs": []
    },
    {
      "cell_type": "code",
      "source": [
        "usa_dataset.info()"
      ],
      "metadata": {
        "id": "-7Ipt3A2SHxL"
      },
      "execution_count": null,
      "outputs": []
    },
    {
      "cell_type": "code",
      "source": [
        "usa_dataset.shape"
      ],
      "metadata": {
        "id": "ei8gJc-TST0z"
      },
      "execution_count": null,
      "outputs": []
    },
    {
      "cell_type": "code",
      "source": [
        "x=usa_dataset.drop('total_rooms',axis=1)\n",
        "print(x)"
      ],
      "metadata": {
        "id": "wGS2zw31SmwC"
      },
      "execution_count": null,
      "outputs": []
    },
    {
      "cell_type": "code",
      "source": [
        "y=usa_dataset ['total_rooms']\n",
        "print(y)"
      ],
      "metadata": {
        "id": "7HhNKObES7c3"
      },
      "execution_count": null,
      "outputs": []
    },
    {
      "cell_type": "code",
      "source": [
        "from sklearn import preprocessing\n",
        "pre_process=preprocessing.StandardScaler().fit(x)\n",
        "x_transform=pre_process.fit_transform(x)"
      ],
      "metadata": {
        "id": "ShpKd_prT5JD"
      },
      "execution_count": null,
      "outputs": []
    },
    {
      "cell_type": "code",
      "source": [
        "x_transform"
      ],
      "metadata": {
        "id": "WlqH0B4EUiV3"
      },
      "execution_count": null,
      "outputs": []
    },
    {
      "cell_type": "code",
      "source": [
        "#pre_process=preprocessing.StandardScaler().fit(y.values.reshape(-1,1))\n",
        "#y_transform=pre_process.fit_transform(y.values.reshape(-1,1))\n",
        "#print(y)"
      ],
      "metadata": {
        "id": "9gVdhxx_WMcy"
      },
      "execution_count": null,
      "outputs": []
    },
    {
      "cell_type": "code",
      "source": [
        "from sklearn.model_selection import train_test_split\n",
        "x_train,x_test,y_train,y_test=train_test_split(x_transform,y,test_size=.10,random_state=112)"
      ],
      "metadata": {
        "id": "KDIsx9f6UtIj"
      },
      "execution_count": null,
      "outputs": []
    },
    {
      "cell_type": "markdown",
      "source": [
        "Model **Training**"
      ],
      "metadata": {
        "id": "FLvMp_EuXAGf"
      }
    },
    {
      "cell_type": "markdown",
      "source": [
        "**RandomForestRegressor**"
      ],
      "metadata": {
        "id": "YeWuoo8NcBew"
      }
    },
    {
      "cell_type": "code",
      "source": [
        "from sklearn.metrics import mean_squared_error\n",
        "from sklearn.tree import DecisionTreeRegressor\n",
        "from sklearn.ensemble import RandomForestRegressor\n",
        "rf_regressor=RandomForestRegressor()\n",
        "rf_regressor.fit(x_train,y_train)\n",
        "y_pred_rf=rf_regressor.predict(x_test)\n",
        "RFr=mean_squared_error(y_pred_rf,y_test)\n",
        "print('Random Forest Regression' ,RFr)"
      ],
      "metadata": {
        "id": "o4xxoHRFXCxG"
      },
      "execution_count": null,
      "outputs": []
    },
    {
      "cell_type": "markdown",
      "source": [
        "**GradientBoostingRegressor**"
      ],
      "metadata": {
        "id": "W3EwioFmcHKr"
      }
    },
    {
      "cell_type": "code",
      "source": [
        "from sklearn.metrics import mean_squared_error\n",
        "from sklearn.tree import DecisionTreeRegressor\n",
        "from sklearn.ensemble import GradientBoostingRegressor\n",
        "rf_regressor=GradientBoostingRegressor()\n",
        "rf_regressor.fit(x_train,y_train)\n",
        "y_pred_rf=rf_regressor.predict(x_test)\n",
        "RFr=mean_squared_error(y_pred_rf,y_test)\n",
        "print('GradientBoostingRegressor' ,RFr)"
      ],
      "metadata": {
        "id": "tCqAzh60bYVE"
      },
      "execution_count": null,
      "outputs": []
    }
  ]
}